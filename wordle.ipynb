{
  "cells": [
    {
      "cell_type": "markdown",
      "source": [
        "# Boot up"
      ],
      "metadata": {
        "id": "Krj1ol3S83r2"
      }
    },
    {
      "cell_type": "code",
      "execution_count": 23,
      "metadata": {
        "id": "cwmdaSuCCB74",
        "colab": {
          "base_uri": "https://localhost:8080/"
        },
        "outputId": "a5afa44b-cade-4714-cc04-769e3bad21b8"
      },
      "outputs": [
        {
          "output_type": "stream",
          "name": "stdout",
          "text": [
            "Drive already mounted at /content/drive; to attempt to forcibly remount, call drive.mount(\"/content/drive\", force_remount=True).\n"
          ]
        }
      ],
      "source": [
        "import pandas as pd\n",
        "#load dataset of words\n",
        "df1 = pd.read_csv('/content/drive/MyDrive/Colab Notebooks/actual_words.csv')"
      ]
    },
    {
      "cell_type": "markdown",
      "metadata": {
        "id": "J_M8x2TsCB7-"
      },
      "source": [
        "# Input your clues"
      ]
    },
    {
      "cell_type": "markdown",
      "source": [
        "Enter letters that the word contains, separated by a space (no comma). Ex: \"a b c\""
      ],
      "metadata": {
        "id": "3CUVbaEc2Xa1"
      }
    },
    {
      "cell_type": "code",
      "source": [
        "contains_these_letters = \"a s l\""
      ],
      "metadata": {
        "id": "IwJNnvMS2X6f"
      },
      "execution_count": 24,
      "outputs": []
    },
    {
      "cell_type": "markdown",
      "source": [
        "Enter letters that the word does NOT contain."
      ],
      "metadata": {
        "id": "mxDv-0x62YCQ"
      }
    },
    {
      "cell_type": "code",
      "source": [
        "does_not_contain = \"p n i c h o u e t k\""
      ],
      "metadata": {
        "id": "9KBjIQrN2YKv"
      },
      "execution_count": 25,
      "outputs": []
    },
    {
      "cell_type": "markdown",
      "source": [
        "Enter the single letter for the given positions you know, leave empty if unknown."
      ],
      "metadata": {
        "id": "yeCEnMtg5U0f"
      }
    },
    {
      "cell_type": "code",
      "source": [
        "letter1 = \"\"\n",
        "letter2 = \"a\" \n",
        "letter3 = \"l\"\n",
        "letter4 = \"\" \n",
        "letter5 = \"\""
      ],
      "metadata": {
        "id": "O2t_36iq5b_0"
      },
      "execution_count": 26,
      "outputs": []
    },
    {
      "cell_type": "markdown",
      "source": [
        "Enter letters which you know are NOT in the respective positions (separated by a space), leave empty if unknown."
      ],
      "metadata": {
        "id": "YjMn9SRJ4HBD"
      }
    },
    {
      "cell_type": "code",
      "source": [
        "not_letter1 = \"\"\n",
        "not_letter2 = \"\" \n",
        "not_letter3 = \"\"\n",
        "not_letter4 = \"s\" \n",
        "not_letter5 = \"s\"\n"
      ],
      "metadata": {
        "id": "u6eon4gL4cjt"
      },
      "execution_count": 27,
      "outputs": []
    },
    {
      "cell_type": "markdown",
      "source": [
        "# Run the code"
      ],
      "metadata": {
        "id": "hITkgrLi8a0P"
      }
    },
    {
      "cell_type": "code",
      "source": [
        "#@title\n",
        "abc = \"a b c d e f g h i j k l m n o p q r s t u v w x y z\".split(\" \")\n",
        "\n",
        "letter1_not = not_letter1.split(\" \")\n",
        "letter2_not = not_letter2.split(\" \")\n",
        "letter3_not = not_letter3.split(\" \")\n",
        "letter4_not = not_letter4.split(\" \")\n",
        "letter5_not = not_letter5.split(\" \")\n",
        "\n",
        "letter1_is = abc if len(letter1) is 0 else [letter1]\n",
        "letter2_is = abc if len(letter2) is 0 else [letter2]\n",
        "letter3_is = abc if len(letter3) is 0 else [letter3]\n",
        "letter4_is = abc if len(letter4) is 0 else [letter4]\n",
        "letter5_is = abc if len(letter5) is 0 else [letter5]\n",
        "\n",
        "contains = contains_these_letters.split(\" \")\n",
        "a = \"a\" if \"a\" in contains else \"\"\n",
        "b = \"b\" if \"b\" in contains else \"\"\n",
        "c = \"c\" if \"c\" in contains else \"\"\n",
        "d = \"d\" if \"d\" in contains else \"\"\n",
        "e = \"e\" if \"e\" in contains else \"\"\n",
        "f = \"f\" if \"f\" in contains else \"\"\n",
        "g = \"g\" if \"g\" in contains else \"\"\n",
        "h = \"h\" if \"h\" in contains else \"\"\n",
        "i = \"i\" if \"i\" in contains else \"\"\n",
        "j = \"j\" if \"j\" in contains else \"\"\n",
        "k = \"k\" if \"k\" in contains else \"\"\n",
        "l = \"l\" if \"l\" in contains else \"\"\n",
        "m = \"m\" if \"m\" in contains else \"\"\n",
        "n = \"n\" if \"n\" in contains else \"\"\n",
        "o = \"o\" if \"o\" in contains else \"\"\n",
        "p = \"p\" if \"p\" in contains else \"\"\n",
        "q = \"q\" if \"q\" in contains else \"\"\n",
        "r = \"r\" if \"r\" in contains else \"\"\n",
        "s = \"s\" if \"s\" in contains else \"\"\n",
        "t = \"t\" if \"t\" in contains else \"\"\n",
        "u = \"u\" if \"u\" in contains else \"\"\n",
        "v = \"v\" if \"v\" in contains else \"\"\n",
        "w = \"w\" if \"w\" in contains else \"\"\n",
        "x = \"x\" if \"x\" in contains else \"\"\n",
        "y = \"y\" if \"y\" in contains else \"\"\n",
        "z = \"z\" if \"z\" in contains else \"\"\n",
        "\n",
        "not_contains = does_not_contain.replace(\" \",\"|\")\n",
        "\n",
        "df2 = df1[\n",
        "#NOT equal to these letters in these locations\n",
        "    (~df1['Letter1'].isin(letter1_not)) &\n",
        "    (~df1['Letter2'].isin(letter2_not)) &\n",
        "    (~df1['Letter3'].isin(letter3_not)) &\n",
        "    (~df1['Letter4'].isin(letter4_not)) &\n",
        "    (~df1['Letter5'].isin(letter5_not)) &\n",
        "\n",
        "    \n",
        "#Equals these letters in these locations\n",
        "    (df1['Letter1'].isin(letter1_is)) &\n",
        "    (df1['Letter2'].isin(letter2_is)) &\n",
        "    (df1['Letter3'].isin(letter3_is)) &\n",
        "    (df1['Letter4'].isin(letter4_is)) &\n",
        "    (df1['Letter5'].isin(letter5_is)) &\n",
        "    \n",
        "#Contains these letters\n",
        "    (df1['word'].str.contains(a)) &\n",
        "    (df1['word'].str.contains(b)) &\n",
        "    (df1['word'].str.contains(c)) &\n",
        "    (df1['word'].str.contains(d)) &\n",
        "    (df1['word'].str.contains(e)) &\n",
        "    (df1['word'].str.contains(f)) &\n",
        "    (df1['word'].str.contains(g)) &\n",
        "    (df1['word'].str.contains(h)) &\n",
        "    (df1['word'].str.contains(i)) &\n",
        "    (df1['word'].str.contains(j)) &\n",
        "    (df1['word'].str.contains(k)) &\n",
        "    (df1['word'].str.contains(l)) &\n",
        "    (df1['word'].str.contains(m)) &\n",
        "    (df1['word'].str.contains(n)) &\n",
        "    (df1['word'].str.contains(o)) &\n",
        "    (df1['word'].str.contains(p)) &\n",
        "    (df1['word'].str.contains(q)) &\n",
        "    (df1['word'].str.contains(r)) &\n",
        "    (df1['word'].str.contains(s)) &\n",
        "    (df1['word'].str.contains(t)) &\n",
        "    (df1['word'].str.contains(u)) &\n",
        "    (df1['word'].str.contains(v)) &\n",
        "    (df1['word'].str.contains(w)) &\n",
        "    (df1['word'].str.contains(x)) &\n",
        "    (df1['word'].str.contains(y)) &\n",
        "    (df1['word'].str.contains(z)) &\n",
        "    \n",
        "#Does NOT contain these letters\n",
        "    (~df1['word'].str.contains(not_contains)) \n",
        "]\n",
        "print(\"Total possible words: \"+str(len(df2)))\n",
        "for i in df2['word']:\n",
        "    print(i)"
      ],
      "metadata": {
        "colab": {
          "base_uri": "https://localhost:8080/"
        },
        "cellView": "form",
        "id": "Wg_0bWq8tUsX",
        "outputId": "efc27db7-f2ef-49c5-d010-c92eef6ea9de"
      },
      "execution_count": 28,
      "outputs": [
        {
          "output_type": "stream",
          "name": "stdout",
          "text": [
            "Total possible words: 7\n",
            "salad\n",
            "salam\n",
            "salay\n",
            "salga\n",
            "sally\n",
            "salma\n",
            "salva\n"
          ]
        }
      ]
    }
  ],
  "metadata": {
    "kernelspec": {
      "display_name": "Python 3",
      "language": "python",
      "name": "python3"
    },
    "language_info": {
      "codemirror_mode": {
        "name": "ipython",
        "version": 3
      },
      "file_extension": ".py",
      "mimetype": "text/x-python",
      "name": "python",
      "nbconvert_exporter": "python",
      "pygments_lexer": "ipython3",
      "version": "3.7.3"
    },
    "colab": {
      "name": "wordle.ipynb",
      "provenance": [],
      "collapsed_sections": []
    }
  },
  "nbformat": 4,
  "nbformat_minor": 0
}